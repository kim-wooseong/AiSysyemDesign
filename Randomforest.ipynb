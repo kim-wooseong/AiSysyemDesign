{
  "nbformat": 4,
  "nbformat_minor": 0,
  "metadata": {
    "colab": {
      "name": "Randomforest.ipynb",
      "provenance": [],
      "authorship_tag": "ABX9TyO/lJ/bzF/NM1bXhHdKWKvi",
      "include_colab_link": true
    },
    "kernelspec": {
      "name": "python3",
      "display_name": "Python 3"
    },
    "language_info": {
      "name": "python"
    }
  },
  "cells": [
    {
      "cell_type": "markdown",
      "metadata": {
        "id": "view-in-github",
        "colab_type": "text"
      },
      "source": [
        "<a href=\"https://colab.research.google.com/github/kim-wooseong/AiSysyemDesign/blob/main/Randomforest.ipynb\" target=\"_parent\"><img src=\"https://colab.research.google.com/assets/colab-badge.svg\" alt=\"Open In Colab\"/></a>"
      ]
    },
    {
      "cell_type": "code",
      "metadata": {
        "colab": {
          "base_uri": "https://localhost:8080/"
        },
        "id": "AA5uXytx_siH",
        "outputId": "457380c8-d10c-452e-b245-8f9fc046da58"
      },
      "source": [
        "import numpy as np\n",
        "import pandas as pd\n",
        "from sklearn import datasets\n",
        "from sklearn import model_selection\n",
        "from sklearn.model_selection import train_test_split\n",
        "from sklearn.ensemble import RandomForestRegressor\n",
        "from sklearn.metrics import explained_variance_score\n",
        "\n",
        "\n",
        "dataset = datasets.load_boston()\n",
        "x_data = dataset.data\n",
        "y_data = dataset.target\n",
        "x_train,x_test,y_train,y_test=train_test_split(x_data,y_data ,test_size=0.3,random_state=42)\n",
        "\n",
        "rfr = RandomForestRegressor(n_estimators=50,max_depth=10)\n",
        "rfr.fit(x_train, y_train)\n",
        "\n",
        "y_predict=rfr.predict(x_test)\n",
        "\n",
        "accuracy=explained_variance_score(y_test,y_predict,multioutput='uniform_average')\n",
        "print('정확도: ', accuracy)"
      ],
      "execution_count": 6,
      "outputs": [
        {
          "output_type": "stream",
          "text": [
            "정확도:  0.8864163087489368\n"
          ],
          "name": "stdout"
        }
      ]
    }
  ]
}