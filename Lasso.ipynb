{
  "nbformat": 4,
  "nbformat_minor": 0,
  "metadata": {
    "colab": {
      "name": "Lasso.ipynb",
      "provenance": [],
      "authorship_tag": "ABX9TyNpenCODD03uVkXyCsgAJ59",
      "include_colab_link": true
    },
    "kernelspec": {
      "name": "python3",
      "display_name": "Python 3"
    },
    "language_info": {
      "name": "python"
    }
  },
  "cells": [
    {
      "cell_type": "markdown",
      "metadata": {
        "id": "view-in-github",
        "colab_type": "text"
      },
      "source": [
        "<a href=\"https://colab.research.google.com/github/kim-wooseong/AiSysyemDesign/blob/main/Lasso.ipynb\" target=\"_parent\"><img src=\"https://colab.research.google.com/assets/colab-badge.svg\" alt=\"Open In Colab\"/></a>"
      ]
    },
    {
      "cell_type": "code",
      "metadata": {
        "colab": {
          "base_uri": "https://localhost:8080/"
        },
        "id": "iLhEVnY5_jUA",
        "outputId": "11674fdb-07d8-40cc-eef6-b482a729c06c"
      },
      "source": [
        "import numpy as np\n",
        "import pandas as pd\n",
        "from sklearn import datasets\n",
        "from sklearn import model_selection\n",
        "from sklearn.linear_model import Lasso\n",
        "from sklearn import metrics\n",
        "\n",
        "dataset = datasets.load_boston()\n",
        "x_data = dataset.data\n",
        "y_data = dataset.target\n",
        "\n",
        "x_train, x_test, y_train, y_test = model_selection.train_test_split(x_data, y_data, test_size=0.2)\n",
        "\n",
        "la = Lasso(alpha=0.01)\n",
        "\n",
        "la.fit(x_train, y_train)\n",
        "\n",
        "y_predict = la.predict(x_test) \n",
        "acuuracy = metrics.r2_score(y_test, y_predict)\n",
        "print('정확도: ', acuuracy ) "
      ],
      "execution_count": 2,
      "outputs": [
        {
          "output_type": "stream",
          "text": [
            "정확도:  0.8084473979700383\n"
          ],
          "name": "stdout"
        }
      ]
    }
  ]
}