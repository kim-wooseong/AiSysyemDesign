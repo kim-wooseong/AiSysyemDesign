{
  "nbformat": 4,
  "nbformat_minor": 0,
  "metadata": {
    "colab": {
      "name": "SVR.ipynb",
      "provenance": [],
      "authorship_tag": "ABX9TyOY2im7hDEuE4PVwB54L3lf",
      "include_colab_link": true
    },
    "kernelspec": {
      "name": "python3",
      "display_name": "Python 3"
    },
    "language_info": {
      "name": "python"
    }
  },
  "cells": [
    {
      "cell_type": "markdown",
      "metadata": {
        "id": "view-in-github",
        "colab_type": "text"
      },
      "source": [
        "<a href=\"https://colab.research.google.com/github/kim-wooseong/AiSysyemDesign/blob/main/SVR.ipynb\" target=\"_parent\"><img src=\"https://colab.research.google.com/assets/colab-badge.svg\" alt=\"Open In Colab\"/></a>"
      ]
    },
    {
      "cell_type": "code",
      "metadata": {
        "colab": {
          "base_uri": "https://localhost:8080/"
        },
        "id": "K_Hqp1op_r01",
        "outputId": "a22f8795-aaef-48ee-df08-7b2421a9db6d"
      },
      "source": [
        "import numpy as np\n",
        "import pandas as pd\n",
        "from sklearn import datasets\n",
        "from sklearn import model_selection\n",
        "from sklearn.svm import SVR\n",
        "from sklearn import metrics\n",
        "from sklearn.preprocessing import MinMaxScaler\n",
        "\n",
        "dataset = datasets.load_boston()\n",
        "x_data = dataset.data\n",
        "y_data = dataset.target\n",
        "\n",
        "scaler = MinMaxScaler()\n",
        "scaler.fit(x_data)\n",
        "x_data = scaler.transform(x_data)\n",
        "\n",
        "x_train, x_test, y_train, y_test = model_selection.train_test_split(x_data, y_data, test_size=0.2)\n",
        "\n",
        "s = SVR(kernel='rbf', C=10, gamma=0.5)\n",
        "\n",
        "s.fit(x_train, y_train)\n",
        "\n",
        "y_predict = s.predict(x_test) \n",
        "accuracy = metrics.r2_score(y_test, y_predict)\n",
        "print('정확도: ', accuracy) "
      ],
      "execution_count": 19,
      "outputs": [
        {
          "output_type": "stream",
          "text": [
            "정확도:  0.8602182770291367\n"
          ],
          "name": "stdout"
        }
      ]
    }
  ]
}